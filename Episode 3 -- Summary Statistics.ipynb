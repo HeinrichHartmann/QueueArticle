{
 "cells": [
  {
   "cell_type": "markdown",
   "metadata": {},
   "source": [
    "# Episode 3 -- Summary Statistics"
   ]
  },
  {
   "cell_type": "markdown",
   "metadata": {},
   "source": [
    "Problem: Given a bunch of datapoints:\n",
    "\n",
    "* characterize the distribution in one or two values\n",
    "* Characterization should be robust to outliers\n",
    "\n",
    "Equivalent of an elevator pitch for a data sets.\n",
    "\n",
    "Problem: This is inherently impossible"
   ]
  },
  {
   "cell_type": "markdown",
   "metadata": {},
   "source": [
    "## Mean Value\n",
    "\n",
    "The _mean value_ of $x_1, \\dots, x_n$ is defined as\n",
    "\n",
    "$$ \\mu = mean(x_1, \\dots, x_n) = \\frac{1}{n} \\sum_{i=1}^n x_i. $$\n",
    "\n",
    "- Represnets center of mass\n",
    "- If the values are close together this is a good representative"
   ]
  },
  {
   "cell_type": "code",
   "execution_count": 1,
   "metadata": {
    "collapsed": false
   },
   "outputs": [
    {
     "data": {
      "text/plain": [
       "<matplotlib.figure.Figure at 0x7f35a23a6990>"
      ]
     },
     "metadata": {},
     "output_type": "display_data"
    }
   ],
   "source": [
    "import math\n",
    "import numpy as np\n",
    "from matplotlib import pyplot as plt\n",
    "import seaborn as sns\n",
    "%matplotlib inline\n",
    "\n",
    "\n",
    "## Creating Ruplots\n",
    "plt.figure(figsize=(10,0.5)) # Use smaller image canvas\n",
    "\n",
    "# Seaborn provides a built-in method for Rugplots\n",
    "# semi-colon ';' suppresses text output\n",
    "# for some resason the default color\n",
    "# sns.rugplot(X, color=\"blue\"); \n",
    "\n",
    "colors = sns.color_palette(\"Blues_d\")"
   ]
  },
  {
   "cell_type": "code",
   "execution_count": 2,
   "metadata": {
    "collapsed": false
   },
   "outputs": [
    {
     "name": "stdout",
     "output_type": "stream",
     "text": [
      "mean= 1316.30863471\n"
     ]
    },
    {
     "data": {
      "image/png": "[encoded data removed]",
      "text/plain": [
       "<matplotlib.figure.Figure at 0x7f35a1c82fd0>"
      ]
     },
     "metadata": {},
     "output_type": "display_data"
    }
   ],
   "source": [
    "def mean(X):\n",
    "    return float(sum(X)) / len(X)\n",
    "\n",
    "X = np.loadtxt(\"DataSets/RequestRates.csv\", delimiter=\",\")[:,1]\n",
    "print \"mean=\", mean(X)\n",
    "\n",
    "# Plot\n",
    "def mark(m,height=1,style='r'):\n",
    "    plt.plot([m,m],[0,height],style)\n",
    "\n",
    "def plot_mean(X):\n",
    "    ax = sns.rugplot(X, color=colors[1], height=1)\n",
    "    mark(mean(X))\n",
    "    ax.set(yticks=[])\n",
    "\n",
    "plt.figure(figsize=(14,1))\n",
    "plot_mean(X)"
   ]
  },
  {
   "cell_type": "code",
   "execution_count": 3,
   "metadata": {
    "collapsed": false
   },
   "outputs": [
    {
     "data": {
      "image/png": "[encoded data removed]",
      "text/plain": [
       "<matplotlib.figure.Figure at 0x7f35ccee8c10>"
      ]
     },
     "metadata": {},
     "output_type": "display_data"
    }
   ],
   "source": [
    "# Mean values can be atypical\n",
    "plt.figure(figsize=(10,.5))\n",
    "plot_mean([1,2,0.4,1.2,100,110,112])"
   ]
  },
  {
   "cell_type": "markdown",
   "metadata": {},
   "source": [
    "# Application: Plotting\n",
    "\n",
    "* A monitoring graph rarely shows you the full data: Not enough pixels!\n",
    "* Need to choose an summary statistic to pre-aggregate the data.\n",
    "* Common choice: mean"
   ]
  },
  {
   "cell_type": "markdown",
   "metadata": {},
   "source": [
    "## Peak Erosion is caused by mean-aggregation (default)"
   ]
  },
  {
   "cell_type": "markdown",
   "metadata": {},
   "source": [
    "<figure>\n",
    "<img src=\"img/peak_erosion_1.png\" width=\"80%\">\n",
    "<img src=\"img/peak_erosion_2.png\" width=\"80%\">\n",
    "<figcaption>Peak erosion: Same peak is shown with height 0.08 and 0.03</figcaption>\n",
    "</figure>"
   ]
  },
  {
   "cell_type": "markdown",
   "metadata": {},
   "source": [
    "To avoid peak erosion use either:\n",
    "\n",
    "* Histogram Aggregation\n",
    "\n",
    "<figure>\n",
    "<img src=\"img/example_peak_histogram.png\" width=\"80%\">\n",
    "<figcaption>Peak erosion: Show all collected data using histogram aggregation</figcaption>\n",
    "</figure>\n",
    "\n",
    "* Demo Histogram: https://parlette.circonus.com/trending/graphs/edit/3447a986-d388-4191-82c9-cdacc1af9c79\n",
    "* Share: https://share.circonus.com/shared/graphs/3447a986-d388-4191-82c9-cdacc1af9c79/i6PIm8\n",
    "\n",
    "* Another example\n",
    "<img src=\"img/example_histogram_aggregation2.png\">"
   ]
  },
  {
   "cell_type": "markdown",
   "metadata": {},
   "source": [
    "* Max Aggregation\n",
    "\n",
    "<figure>\n",
    "<img src=\"img/peak_erosion_3.png\" width=\"80%\">\n",
    "<figcaption>Peak erosion: Same peak is shown with height 0.08 and 0.03</figcaption>\n",
    "</figure>\n",
    "\n",
    "* Demo: https://parlette.circonus.com/trending/graphs/view/65d896dd-2be3-4be9-a76d-6fec209358b1\n",
    "* Share: https://share.circonus.com/shared/graphs/65d896dd-2be3-4be9-a76d-6fec209358b1/bZ7pNb"
   ]
  },
  {
   "cell_type": "markdown",
   "metadata": {},
   "source": [
    "# Deviation Measures\n",
    "\n",
    "1. The _maximal deviation_ is defined as\n",
    "\n",
    "$$ maxdev(x_1,\\dots,x_n) = max \\{ |x_i - \\mu| \\,|\\, i=1,\\dots,n\\}.$$\n",
    "\n",
    "2. The _mean absolute deviation_ is defined as\n",
    "\n",
    "$$ mad(x_1,\\dots,x_n) = \\frac{1}{n} \\sum_{i=1}^n |x_i - \\mu|.$$\n",
    "\n",
    "3. The _standard deviation_ is defined as\n",
    "\n",
    "$$ \\sigma = stddev(x_1,\\dots,x_n) =  \\sqrt{\\frac{1}{n} \\sum_{i=1}^n (x_i - \\mu)^2}.$$\n",
    "\n",
    "\n",
    "* Measure the 'typical' displacement from the mean value.\n",
    "* Standard deviation is popular because it has extremely nice mathematical properties."
   ]
  },
  {
   "cell_type": "code",
   "execution_count": 4,
   "metadata": {
    "collapsed": true
   },
   "outputs": [],
   "source": [
    "def max_dev(X):\n",
    "    m = mean(X)\n",
    "    return max(abs(x - m) for x in X)\n",
    "\n",
    "def mad(X):\n",
    "    m = mean(X)\n",
    "    return sum(abs(x - m) for x in X) / float(len(X))\n",
    "\n",
    "def stddev(X):\n",
    "    m = mean(X)\n",
    "    return math.pow(sum((x - m)**2 for x in X) / len(X), 0.5)\n",
    "\n",
    "# Plotting helper function\n",
    "def plot_mean_dev(X, m, s, new_canvas=True):\n",
    "    print \"mean = \", m\n",
    "    print \"dev  = \", s\n",
    "    if new_canvas: plt.figure(figsize=(14,1))\n",
    "    sns.rugplot(X, color='grey')\n",
    "    plt.plot([m,m],[0,-0.09],'r-' )\n",
    "    plt.plot([m-s,m-s],[0,-0.08],'b-')\n",
    "    plt.plot([m+s,m+s],[0,-0.08],'b-')\n",
    "    plt.plot([m-s,m+s],[-0.04,-0.04],'b--')\n",
    "    if new_canvas:  plt.show()"
   ]
  },
  {
   "cell_type": "code",
   "execution_count": 5,
   "metadata": {
    "collapsed": false
   },
   "outputs": [
    {
     "name": "stdout",
     "output_type": "stream",
     "text": [
      "Maximal deviation\n",
      "mean =  1316.30863471\n",
      "dev  =  738.072957089\n"
     ]
    },
    {
     "data": {
      "image/png": "[encoded data removed]",
      "text/plain": [
       "<matplotlib.figure.Figure at 0x7f359fa1f510>"
      ]
     },
     "metadata": {},
     "output_type": "display_data"
    },
    {
     "name": "stdout",
     "output_type": "stream",
     "text": [
      "Standard Deviation\n",
      "mean =  1316.30863471\n",
      "dev  =  374.572363954\n"
     ]
    },
    {
     "data": {
      "image/png": "[encoded data removed]",
      "text/plain": [
       "<matplotlib.figure.Figure at 0x7f359f9a7b50>"
      ]
     },
     "metadata": {},
     "output_type": "display_data"
    },
    {
     "name": "stdout",
     "output_type": "stream",
     "text": [
      "Mean Absolute Deviation\n",
      "mean =  1316.30863471\n",
      "dev  =  327.4656915\n"
     ]
    },
    {
     "data": {
      "image/png": "[encoded data removed]",
      "text/plain": [
       "<matplotlib.figure.Figure at 0x7f359f477750>"
      ]
     },
     "metadata": {},
     "output_type": "display_data"
    }
   ],
   "source": [
    "X = np.loadtxt(\"DataSets/RequestRates.csv\", delimiter=\",\")[:,1]\n",
    "    \n",
    "print \"Maximal deviation\"\n",
    "plot_mean_dev(X,mean(X),max_dev(X))\n",
    "\n",
    "print \"Standard Deviation\"\n",
    "plot_mean_dev(X,mean(X),stddev(X))\n",
    "\n",
    "print \"Mean Absolute Deviation\"\n",
    "plot_mean_dev(X,mean(X),mad(X))"
   ]
  },
  {
   "cell_type": "code",
   "execution_count": 96,
   "metadata": {
    "collapsed": false
   },
   "outputs": [
    {
     "data": {
      "text/plain": [
       "0.5236768802228412"
      ]
     },
     "execution_count": 96,
     "metadata": {},
     "output_type": "execute_result"
    }
   ],
   "source": [
    "X = np.genfromtxt(\"/home/hartmann/Downloads/3447a986-d388-4191-82c9-cdacc1af9c79 (1)\", delimiter=\",\")[:,1]\n",
    "X = X[~np.isnan(X)]\n",
    "\n",
    "len(X[X < mean(X) + stddev(X)]) / float(len(X))\n",
    "\n",
    "m = mean(X)\n",
    "s = mad(X)\n",
    "len( [ x for x in X if (m - s < x) and (x < m + s)] ) / float(len(X))"
   ]
  },
  {
   "cell_type": "code",
   "execution_count": 61,
   "metadata": {
    "collapsed": false
   },
   "outputs": [
    {
     "data": {
      "text/plain": [
       "1436"
      ]
     },
     "execution_count": 61,
     "metadata": {},
     "output_type": "execute_result"
    }
   ],
   "source": [
    "len(X)"
   ]
  },
  {
   "cell_type": "code",
   "execution_count": 82,
   "metadata": {
    "collapsed": false
   },
   "outputs": [
    {
     "name": "stdout",
     "output_type": "stream",
     "text": [
      "mean= 0.0149601582094\n"
     ]
    },
    {
     "data": {
      "text/plain": [
       "[<matplotlib.lines.Line2D at 0x7f355087d290>]"
      ]
     },
     "execution_count": 82,
     "metadata": {},
     "output_type": "execute_result"
    },
    {
     "data": {
      "image/png": "[encoded data removed]",
      "text/plain": [
       "<matplotlib.figure.Figure at 0x7f3599249c50>"
      ]
     },
     "metadata": {},
     "output_type": "display_data"
    }
   ],
   "source": [
    "print \"mean=\", mean(X)\n",
    "\n",
    "colors = sns.color_palette(\"Blues_d\")\n",
    "\n",
    "# plt.plot(X)\n",
    "\n",
    "\n",
    "plt.figure(figsize=(20,2))\n",
    "ax = sns.rugplot(X, height=0.5, color=colors[1])\n",
    "ax.set(yticks=[])\n",
    "ax.set_xlim(0,0.1)\n",
    "\n",
    "# plt.hist(X)\n",
    "\n",
    "m = mean(X)\n",
    "plt.plot([m,m],[0,1],'r-' )\n",
    "\n",
    "s = max_dev(X)\n",
    "color = \"darkred\"\n",
    "offset = 0.5\n",
    "plt.plot([m-s,m-s],[offset,offset + 0.08],'-', color=color)\n",
    "plt.plot([m+s,m+s],[offset,offset + 0.08],'-', color=color)\n",
    "plt.plot([m-s,m+s],[offset + 0.04, offset + 0.04],'--', color=color)\n",
    "\n",
    "s = stddev(X)\n",
    "color = \"darkred\"\n",
    "offset = 0.7\n",
    "plt.plot([m-s,m-s],[offset,offset + 0.08],'-', color=color)\n",
    "plt.plot([m+s,m+s],[offset,offset + 0.08],'-', color=color)\n",
    "plt.plot([m-s,m+s],[offset + 0.04, offset + 0.02],'--', color=color)\n",
    "\n",
    "s = mad(X)\n",
    "color = \"darkred\"\n",
    "offset = 0.9\n",
    "plt.plot([m-s,m-s],[offset,offset + 0.08],'-', color=color)\n",
    "plt.plot([m+s,m+s],[offset,offset + 0.08],'-', color=color)\n",
    "plt.plot([m-s,m+s],[offset + 0.04, offset + 0.02],'--', color=color)"
   ]
  },
  {
   "cell_type": "code",
   "execution_count": 87,
   "metadata": {
    "collapsed": false
   },
   "outputs": [
    {
     "name": "stdout",
     "output_type": "stream",
     "text": [
      "mean =  -0.00876861991972\n",
      "dev  =  1.00498583201\n"
     ]
    },
    {
     "ename": "IndexError",
     "evalue": "index 2552 is out of bounds for axis 1 with size 2544",
     "output_type": "error",
     "traceback": [
      "\u001b[1;31m---------------------------------------------------------------------------\u001b[0m",
      "\u001b[1;31mIndexError\u001b[0m                                Traceback (most recent call last)",
      "\u001b[1;32m<ipython-input-87-2e7a878cce9e>\u001b[0m in \u001b[0;36m<module>\u001b[1;34m()\u001b[0m\n\u001b[0;32m      4\u001b[0m \u001b[0mplot_mean_dev\u001b[0m\u001b[1;33m(\u001b[0m\u001b[0mX\u001b[0m\u001b[1;33m,\u001b[0m\u001b[0mmean\u001b[0m\u001b[1;33m(\u001b[0m\u001b[0mX\u001b[0m\u001b[1;33m)\u001b[0m\u001b[1;33m,\u001b[0m\u001b[0mstddev\u001b[0m\u001b[1;33m(\u001b[0m\u001b[0mX\u001b[0m\u001b[1;33m)\u001b[0m\u001b[1;33m,\u001b[0m \u001b[0mFalse\u001b[0m\u001b[1;33m)\u001b[0m\u001b[1;33m\u001b[0m\u001b[0m\n\u001b[0;32m      5\u001b[0m \u001b[1;33m\u001b[0m\u001b[0m\n\u001b[1;32m----> 6\u001b[1;33m \u001b[0mlen\u001b[0m\u001b[1;33m(\u001b[0m\u001b[0mX\u001b[0m\u001b[1;33m[\u001b[0m\u001b[0mX\u001b[0m \u001b[1;33m<\u001b[0m \u001b[0mmean\u001b[0m\u001b[1;33m(\u001b[0m\u001b[0mX\u001b[0m\u001b[1;33m)\u001b[0m \u001b[1;33m+\u001b[0m \u001b[0mstddev\u001b[0m\u001b[1;33m(\u001b[0m\u001b[0mX\u001b[0m\u001b[1;33m)\u001b[0m\u001b[1;33m]\u001b[0m\u001b[1;33m[\u001b[0m\u001b[0mX\u001b[0m \u001b[1;33m>\u001b[0m \u001b[0mmean\u001b[0m\u001b[1;33m(\u001b[0m\u001b[0mX\u001b[0m\u001b[1;33m)\u001b[0m \u001b[1;33m+\u001b[0m \u001b[0mstddev\u001b[0m\u001b[1;33m(\u001b[0m\u001b[0mX\u001b[0m\u001b[1;33m)\u001b[0m\u001b[1;33m]\u001b[0m\u001b[1;33m)\u001b[0m \u001b[1;33m/\u001b[0m \u001b[0mfloat\u001b[0m\u001b[1;33m(\u001b[0m\u001b[0mlen\u001b[0m\u001b[1;33m(\u001b[0m\u001b[0mX\u001b[0m\u001b[1;33m)\u001b[0m\u001b[1;33m)\u001b[0m\u001b[1;33m\u001b[0m\u001b[0m\n\u001b[0m",
      "\u001b[1;31mIndexError\u001b[0m: index 2552 is out of bounds for axis 1 with size 2544"
     ]
    },
    {
     "data": {
      "image/png": "[encoded data removed]",
      "text/plain": [
       "<matplotlib.figure.Figure at 0x7f354c64da50>"
      ]
     },
     "metadata": {},
     "output_type": "display_data"
    }
   ],
   "source": [
    "# Standard deviation is a good deviation for normal distributed data\n",
    "X = np.array([ np.random.normal() for x in range(3000) ])\n",
    "plt.hist(X, bins=30, alpha=0.7, normed=True)\n",
    "plot_mean_dev(X,mean(X),stddev(X), False)\n",
    "\n",
    "\n",
    "len(X[X < mean(X) + stddev(X)][X > mean(X) + stddev(X)]) / float(len(X))"
   ]
  },
  {
   "cell_type": "code",
   "execution_count": 95,
   "metadata": {
    "collapsed": false
   },
   "outputs": [
    {
     "data": {
      "text/plain": [
       "0.684"
      ]
     },
     "execution_count": 95,
     "metadata": {},
     "output_type": "execute_result"
    }
   ],
   "source": [
    "m = mean(X)\n",
    "s = stddev(X)\n",
    "len( [ x for x in X if (m - s < x) and (x < m + s)] ) / float(len(X))"
   ]
  },
  {
   "cell_type": "code",
   "execution_count": 9,
   "metadata": {
    "collapsed": false
   },
   "outputs": [
    {
     "name": "stdout",
     "output_type": "stream",
     "text": [
      "Maximal deviation\n",
      "mean =  0.0496609932381\n",
      "dev  =  199.950339007\n"
     ]
    },
    {
     "data": {
      "image/png": "[encoded data removed]",
      "text/plain": [
       "<matplotlib.figure.Figure at 0x7f3b9176ce50>"
      ]
     },
     "metadata": {},
     "output_type": "display_data"
    },
    {
     "name": "stdout",
     "output_type": "stream",
     "text": [
      "Standard Deviation\n",
      "mean =  0.0496609932381\n",
      "dev  =  3.78721705113\n"
     ]
    },
    {
     "data": {
      "image/png": "[encoded data removed]",
      "text/plain": [
       "<matplotlib.figure.Figure at 0x7f3b8f04da90>"
      ]
     },
     "metadata": {},
     "output_type": "display_data"
    },
    {
     "name": "stdout",
     "output_type": "stream",
     "text": [
      "Mean Absolute Deviation\n",
      "mean =  0.0496609932381\n",
      "dev  =  0.876172782135\n"
     ]
    },
    {
     "data": {
      "image/png": "[encoded data removed]",
      "text/plain": [
       "<matplotlib.figure.Figure at 0x7f3b8eecca90>"
      ]
     },
     "metadata": {},
     "output_type": "display_data"
    }
   ],
   "source": [
    "# Large effect on Outliers\n",
    "X = X + [200]\n",
    "\n",
    "print \"Maximal deviation\"\n",
    "plot_mean_dev(X,mean(X),max_dev(X))\n",
    "\n",
    "print \"Standard Deviation\"\n",
    "plot_mean_dev(X,mean(X),stddev(X))\n",
    "\n",
    "print \"Mean Absolute Deviation\"\n",
    "plot_mean_dev(X,mean(X),mad(X))"
   ]
  },
  {
   "cell_type": "markdown",
   "metadata": {},
   "source": [
    "## Caution with Standard Deviation\n",
    "\n",
    "- Everybody Learns about standard deviation in school\n",
    "- Beautiful mathematical properties!\n",
    "- Everybody knows \n",
    "  - \"68% of data falls within 1 std-dev of the mean\"\n",
    "  - \"95% falls within 2 std-dev of the mean\"\n",
    "  - \"99.7\" falls within 3 std-dev of the mean\"\n",
    "* \"Problem is: this is utter nonsense\". Only true for normally distributed data.\n",
    "\n",
    "* Not good for measuring outliers!\n",
    "\n",
    "\n",
    "_Source:_ Janert - Data Analysis with Open Source Tools"
   ]
  },
  {
   "cell_type": "markdown",
   "metadata": {},
   "source": [
    "## War Story:\n",
    "\n",
    "- Looking at SLA for DB response times\n",
    "- Outlier defined as value larger than $\\mu + 3\\sigma$\n",
    "- Look at code: Takes '0.3' percentile!\n",
    "- So always have outliers.\n",
    "- And 0.3-percentile was way too large (hours of latency).\n",
    "- Programmer changed code for 1%, 5%, 10% quantiles.\n",
    "- Finally handcoded a threshold\n",
    "- The SLA was never changed\n",
    "\n",
    "Source: Janert - Data Analysis with Open Source Tools"
   ]
  },
  {
   "cell_type": "code",
   "execution_count": null,
   "metadata": {
    "collapsed": true
   },
   "outputs": [],
   "source": []
  }
 ],
 "metadata": {
  "kernelspec": {
   "display_name": "Python 2",
   "language": "python",
   "name": "python2"
  },
  "language_info": {
   "codemirror_mode": {
    "name": "ipython",
    "version": 2
   },
   "file_extension": ".py",
   "mimetype": "text/x-python",
   "name": "python",
   "nbconvert_exporter": "python",
   "pygments_lexer": "ipython2",
   "version": "2.7.10"
  }
 },
 "nbformat": 4,
 "nbformat_minor": 0
}
