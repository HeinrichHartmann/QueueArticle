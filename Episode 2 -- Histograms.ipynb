{
 "cells": [
  {
   "cell_type": "markdown",
   "metadata": {
    "slideshow": {
     "slide_type": "slide"
    }
   },
   "source": [
    "# Episode 2 -- Histograms\n",
    "\n",
    "* Basic Idea: Use area to compare sample ratios, instead of point counts\n",
    "* Easier to answer questios like: \"How many voters are older than 30, when presented with a histogram, than a table or a rugplot.\"\n",
    "* Both a visualization method and a data-storage format"
   ]
  },
  {
   "cell_type": "markdown",
   "metadata": {
    "slideshow": {
     "slide_type": "slide"
    }
   },
   "source": [
    "# Building your own Histogram\n",
    "\n",
    "1. Define value range of histogram `bin_min`, `bin_max`\n",
    "2. Divide range into bins `bin[0], ..., bin[k]`\n",
    "3. The bins may have variying width \n",
    "4. Count the number of samples in each bin `sample_count[k]`\n",
    "5. Draw a rectangle for each bin with height:\n",
    "   - `h[k] = sample_count[k]` -- non normalized \n",
    "   - `h[k] = sample_count[k] / bin_width[k]` -- normalized case\n",
    "   "
   ]
  },
  {
   "cell_type": "code",
   "execution_count": 2,
   "metadata": {
    "collapsed": true
   },
   "outputs": [],
   "source": [
    "from matplotlib import pyplot as plt\n"
   ]
  },
  {
   "cell_type": "code",
   "execution_count": 3,
   "metadata": {
    "collapsed": false,
    "slideshow": {
     "slide_type": "slide"
    }
   },
   "outputs": [
    {
     "name": "stdout",
     "output_type": "stream",
     "text": [
      "Bins:  [[500, 700], [700, 800], [800, 900], [900, 1000], [1000, 1500], [1500, 1800], [1800, 2000], [2000, 2200]]\n"
     ]
    }
   ],
   "source": [
    "import numpy as np\n",
    "X = np.loadtxt(\"DataSets/RequestRates.csv\", delimiter=\",\")[:,1]\n",
    "\n",
    "# Step 1: Represent bins via list of left-edges\n",
    "bin_left = [\n",
    "    500, 700, 800, 900, 1000, 1500, 1800, 2000, 2200\n",
    "]\n",
    "\n",
    "bin_min = bin_left[0]\n",
    "bin_max = bin_left[-1]\n",
    "bins = [ [bin_left[i-1],bin_left[i]] for i in xrange(1, len(bin_left)) ]\n",
    "\n",
    "print \"Bins: \", bins"
   ]
  },
  {
   "cell_type": "code",
   "execution_count": 4,
   "metadata": {
    "collapsed": false,
    "slideshow": {
     "slide_type": "slide"
    }
   },
   "outputs": [
    {
     "name": "stdout",
     "output_type": "stream",
     "text": [
      "Counts: [0, 10, 8, 4, 25, 23, 4, 2]\n"
     ]
    }
   ],
   "source": [
    "# Step2: Count number of samples in bins\n",
    "def count(X, bins):\n",
    "    def findBin(x, bins):\n",
    "        for i, bin in enumerate(bins):\n",
    "            left, right = bin\n",
    "            if left <= x and x < right:\n",
    "                return i\n",
    "        return None\n",
    "    \n",
    "    count = [0] * len(bins)\n",
    "    for x in X:\n",
    "        i = findBin(x, bins)\n",
    "        if i != None:\n",
    "            count[i] += 1\n",
    "\n",
    "    return count\n",
    "\n",
    "sample_count = count(X, bins)\n",
    "\n",
    "print \"Counts:\", sample_count"
   ]
  },
  {
   "cell_type": "code",
   "execution_count": 5,
   "metadata": {
    "collapsed": true
   },
   "outputs": [],
   "source": [
    "def sample_count(bins, X):\n",
    "    bin_count = len(bins) - 1\n",
    "    counts = [0] * bin_count\n",
    "    for x in X:\n",
    "        for bin_idx in range(bin_count):\n",
    "            if (bins[bin_idx] <= x) and (x < bins[bin_idx + 1]):\n",
    "                counts[bin_idx] += 1\n",
    "    return counts"
   ]
  },
  {
   "cell_type": "code",
   "execution_count": 6,
   "metadata": {
    "collapsed": false
   },
   "outputs": [
    {
     "data": {
      "text/plain": [
       "[0, 10, 8, 4, 25, 23, 4, 2]"
      ]
     },
     "execution_count": 6,
     "metadata": {},
     "output_type": "execute_result"
    }
   ],
   "source": [
    "sample_count([500, 700, 800, 900, 1000, 1500, 1800, 2000, 2200], X)"
   ]
  },
  {
   "cell_type": "code",
   "execution_count": 19,
   "metadata": {
    "collapsed": false
   },
   "outputs": [],
   "source": [
    "def plot_histogram(bins, X,**kwargs):\n",
    "    bin_widths = [ float(bins[i] - bins[i-1]) for i in range(1,len(bins)) ]\n",
    "    sample_counts = sample_count(bins, X)\n",
    "    bin_heights = [ count/width for count, width in zip(sample_counts, bin_widths) ]\n",
    "    bin_lefts = bins[:-1]\n",
    "    return bar_chart(bin_lefts,width=bin_widths,height=bin_heights,**kwargs)"
   ]
  },
  {
   "cell_type": "code",
   "execution_count": 13,
   "metadata": {
    "collapsed": false
   },
   "outputs": [],
   "source": [
    "from matplotlib.pyplot import bar as bar_chart"
   ]
  },
  {
   "cell_type": "code",
   "execution_count": 25,
   "metadata": {
    "collapsed": false
   },
   "outputs": [
    {
     "data": {
      "text/plain": [
       "<Container object of 8 artists>"
      ]
     },
     "execution_count": 25,
     "metadata": {},
     "output_type": "execute_result"
    },
    {
     "data": {
      "image/png": "[encoded data removed]",
      "text/plain": [
       "<matplotlib.figure.Figure at 0x7f10fa2e8910>"
      ]
     },
     "metadata": {},
     "output_type": "display_data"
    }
   ],
   "source": [
    "bins = [500, 700, 800, 900, 1000, 1500, 1800, 2000, 2200]\n",
    "\n",
    "import seaborn as sns\n",
    "color = sns.color_palette(\"Blues_d\")[1]\n",
    "\n",
    "%matplotlib inline\n",
    "plt.figure(figsize=(10,4))\n",
    "plt.xlim=(500,2200)\n",
    "plot_histogram(bins,X, color=color)"
   ]
  },
  {
   "cell_type": "code",
   "execution_count": 32,
   "metadata": {
    "collapsed": false
   },
   "outputs": [
    {
     "data": {
      "image/png": "[encoded data removed]",
      "text/plain": [
       "<matplotlib.figure.Figure at 0x7f10f7a11550>"
      ]
     },
     "metadata": {},
     "output_type": "display_data"
    }
   ],
   "source": [
    "bins=np.linspace(500,2200,100)\n",
    "import seaborn as sns\n",
    "color = sns.color_palette(\"Blues_d\")[1]\n",
    "\n",
    "%matplotlib inline\n",
    "plt.figure(figsize=(10,4))\n",
    "plt.xlim=(500,2200)\n",
    "\n",
    "ax=plot_histogram(bins,X, color=color)"
   ]
  },
  {
   "cell_type": "code",
   "execution_count": 17,
   "metadata": {
    "collapsed": true
   },
   "outputs": [],
   "source": [
    "a=ax[0]"
   ]
  },
  {
   "cell_type": "code",
   "execution_count": 57,
   "metadata": {
    "collapsed": false,
    "slideshow": {
     "slide_type": "slide"
    }
   },
   "outputs": [
    {
     "ename": "TypeError",
     "evalue": "'int' object is not iterable",
     "output_type": "error",
     "traceback": [
      "\u001b[1;31m---------------------------------------------------------------------------\u001b[0m",
      "\u001b[1;31mTypeError\u001b[0m                                 Traceback (most recent call last)",
      "\u001b[1;32m<ipython-input-57-c67ca1669582>\u001b[0m in \u001b[0;36m<module>\u001b[1;34m()\u001b[0m\n\u001b[0;32m     15\u001b[0m \u001b[1;33m\u001b[0m\u001b[0m\n\u001b[0;32m     16\u001b[0m \u001b[0mplt\u001b[0m\u001b[1;33m.\u001b[0m\u001b[0mfigure\u001b[0m\u001b[1;33m(\u001b[0m\u001b[0mfigsize\u001b[0m\u001b[1;33m=\u001b[0m\u001b[1;33m(\u001b[0m\u001b[1;36m15\u001b[0m\u001b[1;33m,\u001b[0m\u001b[1;36m5\u001b[0m\u001b[1;33m)\u001b[0m\u001b[1;33m)\u001b[0m\u001b[1;33m\u001b[0m\u001b[0m\n\u001b[1;32m---> 17\u001b[1;33m \u001b[0mmy_hist\u001b[0m\u001b[1;33m(\u001b[0m\u001b[0mX\u001b[0m\u001b[1;33m,\u001b[0m\u001b[0mbins\u001b[0m\u001b[1;33m)\u001b[0m\u001b[1;33m\u001b[0m\u001b[0m\n\u001b[0m\u001b[0;32m     18\u001b[0m \u001b[0msns\u001b[0m\u001b[1;33m.\u001b[0m\u001b[0mrugplot\u001b[0m\u001b[1;33m(\u001b[0m\u001b[0mX\u001b[0m\u001b[1;33m)\u001b[0m\u001b[1;33m\u001b[0m\u001b[0m\n",
      "\u001b[1;32m<ipython-input-57-c67ca1669582>\u001b[0m in \u001b[0;36mmy_hist\u001b[1;34m(X, bins, normed, **kwargs)\u001b[0m\n\u001b[0;32m      6\u001b[0m \u001b[1;31m# Step3: Plot bar chart\u001b[0m\u001b[1;33m\u001b[0m\u001b[1;33m\u001b[0m\u001b[0m\n\u001b[0;32m      7\u001b[0m \u001b[1;32mdef\u001b[0m \u001b[0mmy_hist\u001b[0m\u001b[1;33m(\u001b[0m\u001b[0mX\u001b[0m\u001b[1;33m,\u001b[0m \u001b[0mbins\u001b[0m\u001b[1;33m,\u001b[0m \u001b[0mnormed\u001b[0m\u001b[1;33m=\u001b[0m\u001b[0mTrue\u001b[0m\u001b[1;33m,\u001b[0m \u001b[1;33m**\u001b[0m\u001b[0mkwargs\u001b[0m\u001b[1;33m)\u001b[0m\u001b[1;33m:\u001b[0m\u001b[1;33m\u001b[0m\u001b[0m\n\u001b[1;32m----> 8\u001b[1;33m     \u001b[0mbin_left\u001b[0m \u001b[1;33m=\u001b[0m \u001b[1;33m[\u001b[0m \u001b[0ml\u001b[0m \u001b[1;32mfor\u001b[0m \u001b[0ml\u001b[0m\u001b[1;33m,\u001b[0m \u001b[0mr\u001b[0m \u001b[1;32min\u001b[0m \u001b[0mbins\u001b[0m \u001b[1;33m]\u001b[0m\u001b[1;33m\u001b[0m\u001b[0m\n\u001b[0m\u001b[0;32m      9\u001b[0m     \u001b[0mbin_width\u001b[0m \u001b[1;33m=\u001b[0m \u001b[1;33m[\u001b[0m \u001b[0mr\u001b[0m\u001b[1;33m-\u001b[0m\u001b[0ml\u001b[0m  \u001b[1;32mfor\u001b[0m \u001b[0ml\u001b[0m\u001b[1;33m,\u001b[0m\u001b[0mr\u001b[0m \u001b[1;32min\u001b[0m \u001b[0mbins\u001b[0m \u001b[1;33m]\u001b[0m\u001b[1;33m\u001b[0m\u001b[0m\n\u001b[0;32m     10\u001b[0m     bin_height = [ \n",
      "\u001b[1;31mTypeError\u001b[0m: 'int' object is not iterable"
     ]
    },
    {
     "data": {
      "text/plain": [
       "<matplotlib.figure.Figure at 0x7f19cc44cb10>"
      ]
     },
     "metadata": {},
     "output_type": "display_data"
    }
   ],
   "source": [
    "from matplotlib import pyplot as plt\n",
    "import seaborn as sns\n",
    "\n",
    "%matplotlib inline\n",
    "\n",
    "# Step3: Plot bar chart\n",
    "def my_hist(X, bins, normed=True, **kwargs):\n",
    "    bin_left = [ l for l, r in bins ]\n",
    "    bin_width = [ r-l  for l,r in bins ]\n",
    "    bin_height = [ \n",
    "        float(c) / w if normed else c \n",
    "        for c,w in zip(count(X, bins), bin_width)\n",
    "    ]\n",
    "    plt.bar(bin_left,width=bin_width,height=bin_height, **kwargs)\n",
    "\n",
    "plt.figure(figsize=(15,5))\n",
    "my_hist(X,bins)\n",
    "sns.rugplot(X)"
   ]
  },
  {
   "cell_type": "code",
   "execution_count": 4,
   "metadata": {
    "collapsed": true
   },
   "outputs": [],
   "source": [
    "import seaborn as sns"
   ]
  },
  {
   "cell_type": "code",
   "execution_count": 5,
   "metadata": {
    "collapsed": false
   },
   "outputs": [
    {
     "data": {
      "text/plain": [
       "<matplotlib.axes._subplots.AxesSubplot at 0x7f40a0215b50>"
      ]
     },
     "execution_count": 5,
     "metadata": {},
     "output_type": "execute_result"
    },
    {
     "data": {
      "image/png": "[encoded data removed]",
      "text/plain": [
       "<matplotlib.figure.Figure at 0x7f40a021c550>"
      ]
     },
     "metadata": {},
     "output_type": "display_data"
    }
   ],
   "source": [
    "sns.rugplot(X)"
   ]
  },
  {
   "cell_type": "markdown",
   "metadata": {
    "slideshow": {
     "slide_type": "slide"
    }
   },
   "source": [
    "# The choice of bins influences the look of the histogram"
   ]
  },
  {
   "cell_type": "code",
   "execution_count": 143,
   "metadata": {
    "collapsed": true
   },
   "outputs": [],
   "source": [
    "def plot_hist(X,  bin_min, bin_max, bin_width):\n",
    "    plt.figure(figsize=(15,5))\n",
    "    bins =[ [i, i+bin_width] for i in np.arange(bin_min, bin_max, bin_width) ]\n",
    "    my_hist(X,bins)\n",
    "    print \"Histogram with bin_width \", bin_width\n",
    "    plt.show()"
   ]
  },
  {
   "cell_type": "code",
   "execution_count": 144,
   "metadata": {
    "collapsed": false
   },
   "outputs": [
    {
     "name": "stdout",
     "output_type": "stream",
     "text": [
      "Histogram with bin_width  5\n"
     ]
    },
    {
     "data": {
      "image/png": "[encoded data removed]",
      "text/plain": [
       "<matplotlib.figure.Figure at 0x7fd12e504490>"
      ]
     },
     "metadata": {},
     "output_type": "display_data"
    }
   ],
   "source": [
    "bin_min = 600\n",
    "bin_max = 2200\n",
    "plot_hist(X, bin_min, bin_max, 5)\n",
    "\n",
    "#--> Looks almost like the rugplot"
   ]
  },
  {
   "cell_type": "code",
   "execution_count": 58,
   "metadata": {
    "collapsed": false
   },
   "outputs": [
    {
     "name": "stdout",
     "output_type": "stream",
     "text": [
      "Histogram with bin_width  50\n"
     ]
    },
    {
     "data": {
      "image/png": "[encoded data removed]",
      "text/plain": [
       "<matplotlib.figure.Figure at 0x7fd12e84c190>"
      ]
     },
     "metadata": {},
     "output_type": "display_data"
    }
   ],
   "source": [
    "plot_hist(X, bin_min, bin_max, 50)"
   ]
  },
  {
   "cell_type": "code",
   "execution_count": 59,
   "metadata": {
    "collapsed": false
   },
   "outputs": [
    {
     "name": "stdout",
     "output_type": "stream",
     "text": [
      "Histogram with bin_width  500\n"
     ]
    },
    {
     "data": {
      "image/png": "[encoded data removed]",
      "text/plain": [
       "<matplotlib.figure.Figure at 0x7fd12e688410>"
      ]
     },
     "metadata": {},
     "output_type": "display_data"
    }
   ],
   "source": [
    "plot_hist(X, bin_min, bin_max, 500)"
   ]
  },
  {
   "cell_type": "code",
   "execution_count": 62,
   "metadata": {
    "collapsed": false
   },
   "outputs": [
    {
     "name": "stdout",
     "output_type": "stream",
     "text": [
      "Histogram with bin_width  2000\n"
     ]
    },
    {
     "data": {
      "image/png": "[encoded data removed]",
      "text/plain": [
       "<matplotlib.figure.Figure at 0x7fd12e38bc90>"
      ]
     },
     "metadata": {},
     "output_type": "display_data"
    }
   ],
   "source": [
    "plot_hist(X, bin_min, bin_max, 2000)\n",
    "# -> Only the total count is displayed"
   ]
  },
  {
   "cell_type": "markdown",
   "metadata": {},
   "source": [
    "## Common bin-width choices\n",
    "\n",
    "Remarks:\n",
    "* Can convert `bin_count` and `bin_width` using relation $$ bin\\_max - bin\\_min = bin\\_count \\cdot bin\\_width.$$\n",
    "\n",
    "* Choices `bin_min=min(X)` and `bin_max=max(X)` are common. But: dependence on input data.\n",
    "\n",
    "Choices for bin-width:\n",
    "\n",
    "* Excel: Let $n$ be the number of samples, then:\n",
    "\n",
    "  $$ bin\\_count = \\sqrt{n} $$\n",
    "\n",
    "* Scott's normal reference rule\n",
    "\n",
    "  $$ bin\\_width = \\frac{3.5 \\sigma}{n^{1/3}} $$\n",
    "\n",
    "  where $\\sigma$ is the standard deviation (cf. later).\n",
    "  This is optimal for random samples of normally distributed data, in a certain sense.\n",
    "\n",
    "* Freedman–Diaconis rule\n",
    "\n",
    "  $$ bin\\_width = \\frac{2 IQR}{n^{1/3}} $$\n",
    "  \n",
    "  where IQR is the inter-quartile range (cf. later). Like Scott's rule but more robust agains outliers."
   ]
  },
  {
   "cell_type": "markdown",
   "metadata": {},
   "source": [
    "# A pragmatic choice: HDR Histograms\n",
    "\n",
    "Example: A decimal HDR Histogram with precision=2 has bin boundaries:\n",
    "  \n",
    "    .... 1.0,  1.1,  1.2, ... 1.9,  2.0,  2.1, ...., 9.9; --- bin width = 0.1\n",
    "         10.0, 11.0, 12.0 ... 19.0, 20.0, 21.0 ...., 99 ; --- bin width = 1\n",
    "         ...\n",
    "\n",
    "** Properties: **\n",
    "* Captures large part of float range\n",
    "* Bin boundaries do not depend on data! -> Can aggregate counts!\n",
    "* Bin width increase with growing values\n",
    "* Allows compact memory representation\n",
    "* Implementation available at http://hdrhistogram.org/"
   ]
  },
  {
   "cell_type": "code",
   "execution_count": 111,
   "metadata": {
    "collapsed": false
   },
   "outputs": [],
   "source": [
    "# To be precise:\n",
    "\n",
    "import math\n",
    "def HDR_bin_width(x):\n",
    "    if x == 0: return 0\n",
    "    sign = x / abs(x)\n",
    "    return sign * 10 ** ( math.floor(math.log10(abs(x)) - 1 ) )\n",
    "\n",
    "def HDR_bin_left(x):\n",
    "    w = bin_width(x)\n",
    "    if w == 0: return 0\n",
    "    return math.floor(x / w) * w\n",
    "\n",
    "def HRD_bin_right(x):\n",
    "    return bin_left(x) + bin_width(x)"
   ]
  },
  {
   "cell_type": "code",
   "execution_count": 198,
   "metadata": {
    "collapsed": false
   },
   "outputs": [
    {
     "data": {
      "text/plain": [
       "[0, 0.001, 0.01, 0.1, 0.1, 0.1, 0.1, 1.0]"
      ]
     },
     "execution_count": 198,
     "metadata": {},
     "output_type": "execute_result"
    }
   ],
   "source": [
    "[ HDR_bin_width(x) for x in 0,0.01,0.1,1,2,9,9.9,10 ]"
   ]
  },
  {
   "cell_type": "code",
   "execution_count": 199,
   "metadata": {
    "collapsed": true
   },
   "outputs": [],
   "source": [
    "def HDR_hist(X):\n",
    "    count = {}\n",
    "    for x in X:\n",
    "        l = HDR_bin_left(x)\n",
    "        count[l] = count.get(l,0) + 1\n",
    "    bin_left = sorted(count.keys())\n",
    "    bin_width = [ HDR_bin_width(l) for l in bin_left ]\n",
    "    bin_height = [ count[l] / HDR_bin_width(l)\n",
    "        for l in bin_left\n",
    "    ]\n",
    "    plt.figure(figsize=(15,5))\n",
    "    plt.bar(bin_left,width=bin_width,height=bin_height)"
   ]
  },
  {
   "cell_type": "code",
   "execution_count": 200,
   "metadata": {
    "collapsed": false
   },
   "outputs": [
    {
     "data": {
      "text/plain": [
       "<matplotlib.axes._subplots.AxesSubplot at 0x7fd12968dcd0>"
      ]
     },
     "execution_count": 200,
     "metadata": {},
     "output_type": "execute_result"
    },
    {
     "data": {
      "image/png": "[encoded data removed]",
      "text/plain": [
       "<matplotlib.figure.Figure at 0x7fd128a95a50>"
      ]
     },
     "metadata": {},
     "output_type": "display_data"
    }
   ],
   "source": [
    "HDR_hist(X)\n",
    "sns.rugplot(X,height=-0.05, color=\"grey\")"
   ]
  },
  {
   "cell_type": "markdown",
   "metadata": {},
   "source": [
    "# Example: Heatmaps of HDR Histograms\n",
    "\n",
    "* Can use color coding for bin count\n",
    "* Allows to show many histograms at once\n",
    "* Harder to read off values\n",
    "* Uses HDR Histogram\n",
    "\n",
    "<figure>\n",
    "<center><img src=\"img/Circonus_Histogram.png\"/></center>\n",
    "<figcaption>A histogram metric.</figcaption>\n",
    "</figure>\n"
   ]
  },
  {
   "cell_type": "markdown",
   "metadata": {},
   "source": [
    "Traditionally only a single request per sampling period is recorded.\n",
    "<figure>\n",
    "<center><img src=\"img/example_histogram_mean.png\"/></center>\n",
    "<figcaption>Histogram with mean value.</figcaption>\n",
    "</figure>\n",
    "\n",
    "Multimodal and logarithmic structures are not visible."
   ]
  },
  {
   "cell_type": "markdown",
   "metadata": {},
   "source": [
    "- share: https://share.circonus.com/shared/graphs/a759d10b-7001-4608-9d6a-283870cb0e84/2FcJcz\n",
    "- graph: https://lethargy.circonus.com/trending/graphs/view/a759d10b-7001-4608-9d6a-283870cb0e84"
   ]
  },
  {
   "cell_type": "markdown",
   "metadata": {},
   "source": [
    "## Digression: Kernel Density Estimators\n",
    "\n",
    "1. Replace 'rugs\" with little functions (e.g. triangles, rectangles, normal-distributions)\n",
    "2. Sum all functions\n",
    "\n",
    "<center>\n",
    "<img src=\"http://upload.wikimedia.org/wikipedia/en/4/41/Comparison_of_1D_histogram_and_KDE.png\" width='400px'>\n",
    "\n",
    "Source: Wikipdeia, CC BY-SA 3.0, by Drleft <br>\n",
    "http://en.wikipedia.org/wiki/Kernel_density_estimation\n",
    "</center>\n",
    "\n",
    "Remarks:\n",
    "\n",
    "* Smooth version of Histogram\n",
    "* Better approximation for pdf (cf. later)\n",
    "* More expensive to compute\n",
    "* Harder to define\n",
    "* Choices of function and width invloved. Similar to Histogram.\n"
   ]
  },
  {
   "cell_type": "code",
   "execution_count": 214,
   "metadata": {
    "collapsed": false
   },
   "outputs": [
    {
     "data": {
      "text/plain": [
       "<matplotlib.axes._subplots.AxesSubplot at 0x7fd1206d6110>"
      ]
     },
     "execution_count": 214,
     "metadata": {},
     "output_type": "execute_result"
    },
    {
     "data": {
      "image/png": "[encoded data removed]",
      "text/plain": [
       "<matplotlib.figure.Figure at 0x7fd115541450>"
      ]
     },
     "metadata": {},
     "output_type": "display_data"
    }
   ],
   "source": [
    "from sklearn.neighbors import KernelDensity\n",
    "\n",
    "X = np.loadtxt(\"DataSets/RequestRates.csv\", delimiter=\",\")[:,1]\n",
    "\n",
    "KDE=KernelDensity(kernel='epanechnikov', bandwidth=80)\n",
    "KDE.fit(X[:,np.newaxis])\n",
    "grid=np.linspace(min(X)-200, max(X)+200,100)\n",
    "kde =np.exp(KDE.score_samples(grid[:,np.newaxis]))\n",
    "\n",
    "plt.figure(figsize=(15,5))\n",
    "plt.plot(grid, kde)\n",
    "sns.rugplot(X, color='grey', height=-.0001)"
   ]
  },
  {
   "cell_type": "code",
   "execution_count": null,
   "metadata": {
    "collapsed": true
   },
   "outputs": [],
   "source": []
  }
 ],
 "metadata": {
  "celltoolbar": "Slideshow",
  "kernelspec": {
   "display_name": "Python 2",
   "language": "python",
   "name": "python2"
  },
  "language_info": {
   "codemirror_mode": {
    "name": "ipython",
    "version": 2
   },
   "file_extension": ".py",
   "mimetype": "text/x-python",
   "name": "python",
   "nbconvert_exporter": "python",
   "pygments_lexer": "ipython2",
   "version": "2.7.10"
  }
 },
 "nbformat": 4,
 "nbformat_minor": 0
}
