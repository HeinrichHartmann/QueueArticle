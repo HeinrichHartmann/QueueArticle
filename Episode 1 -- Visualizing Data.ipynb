{
 "cells": [
  {
   "cell_type": "markdown",
   "metadata": {
    "slideshow": {
     "slide_type": "slide"
    }
   },
   "source": [
    "# Episode 1: Visualizing Data\n",
    "\n",
    "* First step in all data anaytics!\n",
    "* The human eye is well trained in capturing essential features\n",
    "* Descriptive statistics are largely concerned with qunatifying intuitive concepts"
   ]
  },
  {
   "cell_type": "markdown",
   "metadata": {
    "slideshow": {
     "slide_type": "slide"
    }
   },
   "source": [
    "## Rugplots\n",
    "\n",
    "- simplest possible plot\n",
    "- one-dimensional data\n",
    "- ignores ordering\n",
    "- use jitter to show multiplicities\n",
    "\n",
    "<figure>\n",
    "<img src=\"img/example_rugplot.png\">\n",
    "<figcaption>Example Rugplot</figcaption>\n",
    "</figure>"
   ]
  },
  {
   "cell_type": "markdown",
   "metadata": {
    "slideshow": {
     "slide_type": "slide"
    }
   },
   "source": [
    "## Histograms\n",
    "\n",
    "- one-dimensional data only\n",
    "- ignores ordering\n",
    "- use area to compare ratios of data\n",
    "- easier to read than rugplots\n",
    "- many choices involved\n",
    "\n",
    "<figure>\n",
    "<img src=\"img/example_histogram.png\">\n",
    "<figcaption>Example Histogram</figcaption>\n",
    "</figure>\n",
    "\n",
    "We will talk more about histograms in the next episode."
   ]
  },
  {
   "cell_type": "markdown",
   "metadata": {
    "slideshow": {
     "slide_type": "slide"
    }
   },
   "source": [
    "## Scatterplots\n",
    "\n",
    "- two dimensional data $x_i,y_i$.\n",
    "- ignores ordering\n",
    "- two-dimensional variant of rugplot\n",
    "- show dependency between the two axes\n",
    "\n",
    "<figure>\n",
    "<img src=\"img/example_scatterplot_1.png\" width=\"45%\" style=\"float:left\">\n",
    "<img src=\"img/example_scatterplot_2.png\" width=\"45%\">\n",
    "<figcaption>Example Scatterplot</figcaption>\n",
    "</figure>"
   ]
  },
  {
   "cell_type": "markdown",
   "metadata": {
    "slideshow": {
     "slide_type": "slide"
    }
   },
   "source": [
    "## Line-Plots\n",
    "\n",
    "- special case of scatter plot\n",
    "- interpolation lines add the illusion of continuity\n",
    "- widely used in parctice\n",
    "\n",
    "<figure>\n",
    "<img src=\"img/example_lineplot.png\">\n",
    "<figcaption>Example Line Plot\n",
    "</figcaption>\n",
    "</figure>"
   ]
  },
  {
   "cell_type": "markdown",
   "metadata": {
    "slideshow": {
     "slide_type": "slide"
    }
   },
   "source": [
    "# Relations between basic plot types\n",
    "\n",
    "* Lineplots are a special case of scatterplots\n",
    "* Scatterplot has marginal rugplots\n",
    "* Lineplot has marginal y-rugplot\n",
    "* Histograms show the same information as rugplots"
   ]
  },
  {
   "cell_type": "markdown",
   "metadata": {
    "slideshow": {
     "slide_type": "slide"
    }
   },
   "source": [
    "# Creating Plots with the IPython toolchain\n",
    "\n",
    "- Choice of tools is non essential\n",
    "- Equivalent functionality can be provided by e.g. Excel, MATLAB or R\n",
    "- Your monitoring tool should provide much functionality already\n",
    "- This is not a introduction to python or the libraries"
   ]
  },
  {
   "cell_type": "markdown",
   "metadata": {
    "slideshow": {
     "slide_type": "slide"
    }
   },
   "source": [
    "## IPython notebook\n",
    "\n",
    "- http://ipython.org/notebook.html\n",
    "- Cell based UI for python like Mathematica\n",
    "- Decent code editing environment (Completion, Inline doc-strings, output formatting)\n",
    "- Decent word-editor (Markdown, HTML, Mathjax)\n",
    "- Mix in shell scripts\n",
    "- Share notebooks on http://nb.bianp.net/sort/views/\n",
    "- GitHub renders notebooks natively\n",
    "\n",
    "This presentation is made with IPython Notebook:\n",
    "https://github.com/HeinrichHartmann/Statistics-for-Engineers"
   ]
  },
  {
   "cell_type": "markdown",
   "metadata": {
    "slideshow": {
     "slide_type": "slide"
    }
   },
   "source": [
    "## Essential Python Libraries"
   ]
  },
  {
   "cell_type": "code",
   "execution_count": 2,
   "metadata": {
    "collapsed": true
   },
   "outputs": [],
   "source": [
    "import numpy as np"
   ]
  },
  {
   "cell_type": "code",
   "execution_count": 3,
   "metadata": {
    "collapsed": false
   },
   "outputs": [],
   "source": [
    "A=np.loadtxt(\"DataSets/RequestRates.csv\", delimiter=\",\")"
   ]
  },
  {
   "cell_type": "code",
   "execution_count": 4,
   "metadata": {
    "collapsed": false
   },
   "outputs": [
    {
     "data": {
      "text/plain": [
       "array([  1.43027640e+09,   7.78480286e+02])"
      ]
     },
     "execution_count": 4,
     "metadata": {},
     "output_type": "execute_result"
    }
   ],
   "source": [
    "A[1]"
   ]
  },
  {
   "cell_type": "code",
   "execution_count": 5,
   "metadata": {
    "collapsed": false
   },
   "outputs": [
    {
     "data": {
      "text/plain": [
       "array([  1.43027280e+09,   1.43027640e+09,   1.43028000e+09,\n",
       "         1.43028360e+09,   1.43028720e+09,   1.43029080e+09,\n",
       "         1.43029440e+09,   1.43029800e+09,   1.43030160e+09,\n",
       "         1.43030520e+09,   1.43030880e+09,   1.43031240e+09,\n",
       "         1.43031600e+09,   1.43031960e+09,   1.43032320e+09,\n",
       "         1.43032680e+09,   1.43033040e+09,   1.43033400e+09,\n",
       "         1.43033760e+09,   1.43034120e+09,   1.43034480e+09,\n",
       "         1.43034840e+09,   1.43035200e+09,   1.43035560e+09,\n",
       "         1.43035920e+09,   1.43036280e+09,   1.43036640e+09,\n",
       "         1.43037000e+09,   1.43037360e+09,   1.43037720e+09,\n",
       "         1.43038080e+09,   1.43038440e+09,   1.43038800e+09,\n",
       "         1.43039160e+09,   1.43039520e+09,   1.43039880e+09,\n",
       "         1.43040240e+09,   1.43040600e+09,   1.43040960e+09,\n",
       "         1.43041320e+09,   1.43041680e+09,   1.43042040e+09,\n",
       "         1.43042400e+09,   1.43042760e+09,   1.43043120e+09,\n",
       "         1.43043480e+09,   1.43043840e+09,   1.43044200e+09,\n",
       "         1.43044560e+09,   1.43044920e+09,   1.43045280e+09,\n",
       "         1.43045640e+09,   1.43046000e+09,   1.43046360e+09,\n",
       "         1.43046720e+09,   1.43047080e+09,   1.43047440e+09,\n",
       "         1.43047800e+09,   1.43048160e+09,   1.43048520e+09,\n",
       "         1.43048880e+09,   1.43049240e+09,   1.43049600e+09,\n",
       "         1.43049960e+09,   1.43050320e+09,   1.43050680e+09,\n",
       "         1.43051040e+09,   1.43051400e+09,   1.43051760e+09,\n",
       "         1.43052120e+09,   1.43052480e+09,   1.43052840e+09,\n",
       "         1.43053200e+09,   1.43053560e+09,   1.43053920e+09,\n",
       "         1.43054280e+09])"
      ]
     },
     "execution_count": 5,
     "metadata": {},
     "output_type": "execute_result"
    }
   ],
   "source": [
    "A[:,0]"
   ]
  },
  {
   "cell_type": "code",
   "execution_count": 6,
   "metadata": {
    "collapsed": false
   },
   "outputs": [
    {
     "name": "stdout",
     "output_type": "stream",
     "text": [
      "|-------------+-------------------|\r\n",
      "|  column1    | column2           |\r\n",
      "|-------------+-------------------|\r\n",
      "|  1430272800 | 789.739501953125  |\r\n",
      "|  1430276400 | 778.480285644531  |\r\n",
      "|  1430280000 | 820.662231445312  |\r\n",
      "|  1430283600 | 951.75146484375   |\r\n",
      "|  1430287200 | 1142.41357421875  |\r\n",
      "|  1430290800 | 1340.40576171875  |\r\n",
      "|  1430294400 | 1485.84899902344  |\r\n"
     ]
    }
   ],
   "source": [
    "! csvlook \"DataSets/RequestRates.csv\" -H | head"
   ]
  },
  {
   "cell_type": "code",
   "execution_count": 1,
   "metadata": {
    "collapsed": true,
    "slideshow": {
     "slide_type": "-"
    }
   },
   "outputs": [],
   "source": [
    "import numpy as np\n",
    "# http://www.numpy.org/\n",
    "# provides:\n",
    "# - np.array() --  high performance array implementation\n",
    "# - np.loadtxt() -- method to read in CSV files\n",
    "\n",
    "from matplotlib import pyplot as plt\n",
    "# http://matplotlib.org/\n",
    "# provides:\n",
    "# - plotting primitives: figures, axes, plygons\n",
    "# - advanced plotting methods for eg. histograms, scatterplots\n",
    "# - pyplot is a MATLAB like API to matplotlib\n",
    "\n",
    "import seaborn as sns\n",
    "# http://stanford.edu/~mwaskom/software/seaborn/\n",
    "# like matplotlib, but:\n",
    "# - focus on statistical data visualization\n",
    "# - pretty colors"
   ]
  },
  {
   "cell_type": "code",
   "execution_count": 2,
   "metadata": {
    "collapsed": true,
    "slideshow": {
     "slide_type": "subslide"
    }
   },
   "outputs": [],
   "source": [
    "# Configure Notebooks graphic output\n",
    "%matplotlib inline\n",
    "import matplotlib\n",
    "matplotlib.rcParams['figure.figsize'] = (15,5)\n",
    "np.set_printoptions(precision=2)"
   ]
  },
  {
   "cell_type": "code",
   "execution_count": 9,
   "metadata": {
    "collapsed": false,
    "slideshow": {
     "slide_type": "slide"
    }
   },
   "outputs": [
    {
     "name": "stdout",
     "output_type": "stream",
     "text": [
      "|-------------+-------------------|\r\n",
      "|  column1    | column2           |\r\n",
      "|-------------+-------------------|\r\n",
      "|  1430272800 | 789.739501953125  |\r\n",
      "|  1430276400 | 778.480285644531  |\r\n",
      "|  1430280000 | 820.662231445312  |\r\n",
      "|  1430283600 | 951.75146484375   |\r\n",
      "|  1430287200 | 1142.41357421875  |\r\n",
      "|  1430290800 | 1340.40576171875  |\r\n",
      "|  1430294400 | 1485.84899902344  |\r\n"
     ]
    }
   ],
   "source": [
    "## Importing Data\n",
    "\n",
    "# - A number of example datasets is provided in \"DataSets/\" folder\n",
    "# - Look into one of them\n",
    "# - use csvkit (http://csvkit.readthedocs.org/) for formatted output\n",
    "\n",
    "!csvlook \"DataSets/RequestRates.csv\" -H | head\n",
    "\n",
    "# - In this case the schema is <timestamp>,<value>"
   ]
  },
  {
   "cell_type": "code",
   "execution_count": 3,
   "metadata": {
    "collapsed": false,
    "slideshow": {
     "slide_type": "slide"
    }
   },
   "outputs": [
    {
     "name": "stdout",
     "output_type": "stream",
     "text": [
      "[  789.74   778.48   820.66   951.75  1142.41] ...\n"
     ]
    }
   ],
   "source": [
    "# Read csv file with np.loadtxt()\n",
    "# get help with `np.loadtxt?`\n",
    "# Alternative: `np.genfromtxt?` (for graceful handling of missing/corrupt data)\n",
    "\n",
    "X = np.loadtxt(\"DataSets/RequestRates.csv\", delimiter=\",\")[:,1]\n",
    "print X[:5], \"...\""
   ]
  },
  {
   "cell_type": "code",
   "execution_count": 4,
   "metadata": {
    "collapsed": false,
    "slideshow": {
     "slide_type": "slide"
    }
   },
   "outputs": [
    {
     "data": {
      "image/png": "[encoded data removed]",
      "text/plain": [
       "<matplotlib.figure.Figure at 0x7f7f0ed6cfd0>"
      ]
     },
     "metadata": {},
     "output_type": "display_data"
    }
   ],
   "source": [
    "%matplotlib inline\n",
    "\n",
    "## Creating Ruplots\n",
    "plt.figure(figsize=(10,0.5)) # Use smaller image canvas\n",
    "\n",
    "# Seaborn provides a built-in method for Rugplots\n",
    "# semi-colon ';' suppresses text output\n",
    "# for some resason the default color\n",
    "# sns.rugplot(X, color=\"blue\"); \n",
    "\n",
    "colors = sns.color_palette(\"Blues_d\")\n",
    "\n",
    "# plt.plot(X)\n",
    "ax = sns.rugplot(X, height=1, color=colors[1])\n",
    "ax.set(yticks=[])\n",
    "\n",
    "plt.savefig(\"img/example_rugplot_2.png\")"
   ]
  },
  {
   "cell_type": "code",
   "execution_count": 5,
   "metadata": {
    "collapsed": false
   },
   "outputs": [
    {
     "data": {
      "text/plain": [
       "<function matplotlib.pyplot.bar>"
      ]
     },
     "execution_count": 5,
     "metadata": {},
     "output_type": "execute_result"
    }
   ],
   "source": [
    "plt.bar"
   ]
  },
  {
   "cell_type": "code",
   "execution_count": 7,
   "metadata": {
    "collapsed": false,
    "slideshow": {
     "slide_type": "slide"
    }
   },
   "outputs": [
    {
     "data": {
      "image/png": "[encoded data removed]",
      "text/plain": [
       "<matplotlib.figure.Figure at 0x7f7f0f49c650>"
      ]
     },
     "metadata": {},
     "output_type": "display_data"
    }
   ],
   "source": [
    "## Creating Histograms\n",
    "\n",
    "\n",
    "# Matplotlib provides a built-in method\n",
    "plt.figure(figsize=(10,4))\n",
    "plt.hist(X, bins=30, normed=True, color=colors[1])\n",
    "plt.axes().set(yticks=[0,0.001,0.002,0.003]);"
   ]
  },
  {
   "cell_type": "code",
   "execution_count": 69,
   "metadata": {
    "collapsed": false,
    "slideshow": {
     "slide_type": "slide"
    }
   },
   "outputs": [
    {
     "data": {
      "image/png": "[encoded data removed]",
      "text/plain": [
       "<matplotlib.figure.Figure at 0x7fca199a7190>"
      ]
     },
     "metadata": {},
     "output_type": "display_data"
    }
   ],
   "source": [
    "## Creating Scatterplots\n",
    "\n",
    "# !csvlook DataSets/ReqMultiNode.csv -H --> Large output (-> Terminal)\n",
    "\n",
    "# load two-dimensional datasets\n",
    "table = np.loadtxt(\"DataSets/ReqMultiNode.csv\", delimiter=',', usecols=(0,1,2,3,4))[:1000]\n",
    "\n",
    "T = table[:,0] # time stamps\n",
    "A = table[:,1] # node A-requests\n",
    "B = table[:,2] # node B-requests\n",
    "\n",
    "plt.figure(figsize=(5,5))\n",
    "plt.scatter(A,B, color=colors[1]);\n",
    "plt.axes().set_xlim(0,5)\n",
    "plt.axes().set_ylim(0,4)\n",
    "plt.axes().set_aspect(4/5.)\n"
   ]
  },
  {
   "cell_type": "code",
   "execution_count": 70,
   "metadata": {
    "collapsed": false
   },
   "outputs": [
    {
     "data": {
      "image/png": "[encoded data removed]",
      "text/plain": [
       "<matplotlib.figure.Figure at 0x7fca1997fd90>"
      ]
     },
     "metadata": {},
     "output_type": "display_data"
    }
   ],
   "source": [
    "random.shuffle(A)\n",
    "random.shuffle(B)\n",
    "\n",
    "\n",
    "plt.figure(figsize=(5,5))\n",
    "plt.scatter(A,B, color=colors[1]);\n",
    "plt.axes().set_xlim(0,5)\n",
    "plt.axes().set_ylim(0,4)\n",
    "plt.axes().set_aspect(4/5.)\n"
   ]
  },
  {
   "cell_type": "code",
   "execution_count": 14,
   "metadata": {
    "collapsed": false,
    "slideshow": {
     "slide_type": "slide"
    }
   },
   "outputs": [
    {
     "data": {
      "image/png": "[encoded data removed]",
      "text/plain": [
       "<matplotlib.figure.Figure at 0x7fca1c0acb90>"
      ]
     },
     "metadata": {},
     "output_type": "display_data"
    }
   ],
   "source": [
    "## Creating LinePlots\n",
    "\n",
    "# Matplotlib provides a built-in method\n",
    "# use style 'o-' to show datapoints (o) and line (-)\n",
    "plt.plot(X,'o-');"
   ]
  },
  {
   "cell_type": "markdown",
   "metadata": {
    "slideshow": {
     "slide_type": "slide"
    }
   },
   "source": [
    "# Exercise\n",
    "\n",
    "1. Make a scatter plot of column combinations (1,2), (1,3), (2,3) from \"dc1cpu.csv\"\n",
    "2. Plot the colums 2-6 over time (colum 1) in  \"dc1cup.csv\"\n",
    "3. Make a histograms for the web latencies in \"WebLatency.csv\""
   ]
  }
 ],
 "metadata": {
  "celltoolbar": "Slideshow",
  "kernelspec": {
   "display_name": "Python 2",
   "language": "python",
   "name": "python2"
  },
  "language_info": {
   "codemirror_mode": {
    "name": "ipython",
    "version": 2
   },
   "file_extension": ".py",
   "mimetype": "text/x-python",
   "name": "python",
   "nbconvert_exporter": "python",
   "pygments_lexer": "ipython2",
   "version": "2.7.10"
  }
 },
 "nbformat": 4,
 "nbformat_minor": 0
}
